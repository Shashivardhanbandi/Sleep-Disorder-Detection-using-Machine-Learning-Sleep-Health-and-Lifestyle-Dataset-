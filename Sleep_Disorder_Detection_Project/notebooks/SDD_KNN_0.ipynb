{
 "cells": [
  {
   "cell_type": "code",
   "execution_count": 1,
   "id": "35f9d28d-f05e-46e5-9132-914a9ed2d4fe",
   "metadata": {},
   "outputs": [],
   "source": [
    "import pandas as pd\n",
    "from sklearn.model_selection import train_test_split\n",
    "from sklearn.preprocessing import LabelEncoder\n",
    "from sklearn.preprocessing import StandardScaler\n",
    "from sklearn.neighbors import KNeighborsClassifier as KNC\n",
    "from sklearn.metrics import accuracy_score, classification_report, confusion_matrix\n",
    "import seaborn as sns\n",
    "import matplotlib.pyplot as plt"
   ]
  },
  {
   "cell_type": "code",
   "execution_count": 2,
   "id": "1245916e-016f-4ed1-9f7d-7a684775fd3b",
   "metadata": {},
   "outputs": [
    {
     "data": {
      "text/html": [
       "<div>\n",
       "<style scoped>\n",
       "    .dataframe tbody tr th:only-of-type {\n",
       "        vertical-align: middle;\n",
       "    }\n",
       "\n",
       "    .dataframe tbody tr th {\n",
       "        vertical-align: top;\n",
       "    }\n",
       "\n",
       "    .dataframe thead th {\n",
       "        text-align: right;\n",
       "    }\n",
       "</style>\n",
       "<table border=\"1\" class=\"dataframe\">\n",
       "  <thead>\n",
       "    <tr style=\"text-align: right;\">\n",
       "      <th></th>\n",
       "      <th>Person ID</th>\n",
       "      <th>Gender</th>\n",
       "      <th>Age</th>\n",
       "      <th>Occupation</th>\n",
       "      <th>Sleep Duration</th>\n",
       "      <th>Quality of Sleep</th>\n",
       "      <th>Physical Activity Level</th>\n",
       "      <th>Stress Level</th>\n",
       "      <th>BMI Category</th>\n",
       "      <th>Blood Pressure</th>\n",
       "      <th>Heart Rate</th>\n",
       "      <th>Daily Steps</th>\n",
       "      <th>Sleep Disorder</th>\n",
       "    </tr>\n",
       "  </thead>\n",
       "  <tbody>\n",
       "    <tr>\n",
       "      <th>0</th>\n",
       "      <td>1</td>\n",
       "      <td>Male</td>\n",
       "      <td>27</td>\n",
       "      <td>Software Engineer</td>\n",
       "      <td>6.1</td>\n",
       "      <td>6</td>\n",
       "      <td>42</td>\n",
       "      <td>6</td>\n",
       "      <td>Overweight</td>\n",
       "      <td>126/83</td>\n",
       "      <td>77</td>\n",
       "      <td>4200</td>\n",
       "      <td>NaN</td>\n",
       "    </tr>\n",
       "    <tr>\n",
       "      <th>1</th>\n",
       "      <td>2</td>\n",
       "      <td>Male</td>\n",
       "      <td>28</td>\n",
       "      <td>Doctor</td>\n",
       "      <td>6.2</td>\n",
       "      <td>6</td>\n",
       "      <td>60</td>\n",
       "      <td>8</td>\n",
       "      <td>Normal</td>\n",
       "      <td>125/80</td>\n",
       "      <td>75</td>\n",
       "      <td>10000</td>\n",
       "      <td>NaN</td>\n",
       "    </tr>\n",
       "    <tr>\n",
       "      <th>2</th>\n",
       "      <td>3</td>\n",
       "      <td>Male</td>\n",
       "      <td>28</td>\n",
       "      <td>Doctor</td>\n",
       "      <td>6.2</td>\n",
       "      <td>6</td>\n",
       "      <td>60</td>\n",
       "      <td>8</td>\n",
       "      <td>Normal</td>\n",
       "      <td>125/80</td>\n",
       "      <td>75</td>\n",
       "      <td>10000</td>\n",
       "      <td>NaN</td>\n",
       "    </tr>\n",
       "    <tr>\n",
       "      <th>3</th>\n",
       "      <td>4</td>\n",
       "      <td>Male</td>\n",
       "      <td>28</td>\n",
       "      <td>Sales Representative</td>\n",
       "      <td>5.9</td>\n",
       "      <td>4</td>\n",
       "      <td>30</td>\n",
       "      <td>8</td>\n",
       "      <td>Obese</td>\n",
       "      <td>140/90</td>\n",
       "      <td>85</td>\n",
       "      <td>3000</td>\n",
       "      <td>Sleep Apnea</td>\n",
       "    </tr>\n",
       "    <tr>\n",
       "      <th>4</th>\n",
       "      <td>5</td>\n",
       "      <td>Male</td>\n",
       "      <td>28</td>\n",
       "      <td>Sales Representative</td>\n",
       "      <td>5.9</td>\n",
       "      <td>4</td>\n",
       "      <td>30</td>\n",
       "      <td>8</td>\n",
       "      <td>Obese</td>\n",
       "      <td>140/90</td>\n",
       "      <td>85</td>\n",
       "      <td>3000</td>\n",
       "      <td>Sleep Apnea</td>\n",
       "    </tr>\n",
       "  </tbody>\n",
       "</table>\n",
       "</div>"
      ],
      "text/plain": [
       "   Person ID Gender  Age            Occupation  Sleep Duration  \\\n",
       "0          1   Male   27     Software Engineer             6.1   \n",
       "1          2   Male   28                Doctor             6.2   \n",
       "2          3   Male   28                Doctor             6.2   \n",
       "3          4   Male   28  Sales Representative             5.9   \n",
       "4          5   Male   28  Sales Representative             5.9   \n",
       "\n",
       "   Quality of Sleep  Physical Activity Level  Stress Level BMI Category  \\\n",
       "0                 6                       42             6   Overweight   \n",
       "1                 6                       60             8       Normal   \n",
       "2                 6                       60             8       Normal   \n",
       "3                 4                       30             8        Obese   \n",
       "4                 4                       30             8        Obese   \n",
       "\n",
       "  Blood Pressure  Heart Rate  Daily Steps Sleep Disorder  \n",
       "0         126/83          77         4200            NaN  \n",
       "1         125/80          75        10000            NaN  \n",
       "2         125/80          75        10000            NaN  \n",
       "3         140/90          85         3000    Sleep Apnea  \n",
       "4         140/90          85         3000    Sleep Apnea  "
      ]
     },
     "execution_count": 2,
     "metadata": {},
     "output_type": "execute_result"
    }
   ],
   "source": [
    "data=pd.read_csv('Sleep_health_and_lifestyle_dataset.csv')\n",
    "data.head()"
   ]
  },
  {
   "cell_type": "code",
   "execution_count": 3,
   "id": "e3d81ffa-8f88-4225-9503-7a0244893fe8",
   "metadata": {},
   "outputs": [
    {
     "name": "stdout",
     "output_type": "stream",
     "text": [
      "0    0.0\n",
      "1    0.0\n",
      "2    0.0\n",
      "3    1.0\n",
      "4    1.0\n",
      "Name: Sleep Disorder, dtype: float64\n"
     ]
    }
   ],
   "source": [
    "data['Sleep Disorder'] = data['Sleep Disorder'].map({'Sleep Apnea': 1, 'Insomnia': 2})\n",
    "data['Sleep Disorder'] = data['Sleep Disorder'].fillna(0)\n",
    "print(data['Sleep Disorder'].head())"
   ]
  },
  {
   "cell_type": "code",
   "execution_count": 4,
   "id": "664f808f-0792-4b5a-9903-2572b3c251ef",
   "metadata": {},
   "outputs": [
    {
     "name": "stdout",
     "output_type": "stream",
     "text": [
      "0    9\n",
      "1    1\n",
      "2    1\n",
      "3    6\n",
      "4    6\n",
      "Name: Occupation, dtype: int64\n"
     ]
    }
   ],
   "source": [
    "le = LabelEncoder()\n",
    "data['Occupation'] = le.fit_transform(data['Occupation'])\n",
    "print(data['Occupation'].head())"
   ]
  },
  {
   "cell_type": "code",
   "execution_count": 5,
   "id": "1d4598fd-2d0c-49a2-bee5-6f5ff5f0bb3a",
   "metadata": {},
   "outputs": [
    {
     "name": "stdout",
     "output_type": "stream",
     "text": [
      "0      3\n",
      "1      0\n",
      "2      0\n",
      "3      2\n",
      "4      2\n",
      "      ..\n",
      "369    3\n",
      "370    3\n",
      "371    3\n",
      "372    3\n",
      "373    3\n",
      "Name: BMI Category, Length: 374, dtype: int64\n",
      "0      1\n",
      "1      1\n",
      "2      1\n",
      "3      1\n",
      "4      1\n",
      "      ..\n",
      "369    0\n",
      "370    0\n",
      "371    0\n",
      "372    0\n",
      "373    0\n",
      "Name: Gender, Length: 374, dtype: int64\n"
     ]
    }
   ],
   "source": [
    "le = LabelEncoder()\n",
    "data['BMI Category']=le.fit_transform(data['BMI Category'])\n",
    "print(data['BMI Category'])\n",
    "data['Gender']=le.fit_transform(data['Gender'])\n",
    "print(data['Gender'])"
   ]
  },
  {
   "cell_type": "code",
   "execution_count": 6,
   "id": "0d5bccc2-441b-47cd-a599-c2886a8b222f",
   "metadata": {},
   "outputs": [
    {
     "name": "stdout",
     "output_type": "stream",
     "text": [
      "   Systolic  Diastolic\n",
      "0       126         83\n",
      "1       125         80\n",
      "2       125         80\n",
      "3       140         90\n",
      "4       140         90\n"
     ]
    }
   ],
   "source": [
    "data[['Systolic', 'Diastolic']] = data['Blood Pressure'].str.split('/', expand=True)\n",
    "data['Systolic'] = pd.to_numeric(data['Systolic'])\n",
    "data['Diastolic'] = pd.to_numeric(data['Diastolic'])\n",
    "data = data.drop('Blood Pressure', axis=1)\n",
    "print(data[['Systolic', 'Diastolic']].head())"
   ]
  },
  {
   "cell_type": "code",
   "execution_count": 7,
   "id": "b1b48931-4375-434e-9f4f-038809baef9e",
   "metadata": {},
   "outputs": [],
   "source": [
    "features = data.columns.tolist()\n",
    "features=data.drop('Sleep Disorder',axis=1)\n",
    "X = features\n",
    "y = data['Sleep Disorder']"
   ]
  },
  {
   "cell_type": "code",
   "execution_count": 8,
   "id": "8835c847-23ac-45ec-b73e-1fdd8b419315",
   "metadata": {},
   "outputs": [
    {
     "name": "stdout",
     "output_type": "stream",
     "text": [
      "     Person ID  Gender  Age  Occupation  Sleep Duration  Quality of Sleep  \\\n",
      "0            1       1   27           9             6.1                 6   \n",
      "1            2       1   28           1             6.2                 6   \n",
      "2            3       1   28           1             6.2                 6   \n",
      "3            4       1   28           6             5.9                 4   \n",
      "4            5       1   28           6             5.9                 4   \n",
      "..         ...     ...  ...         ...             ...               ...   \n",
      "369        370       0   59           5             8.1                 9   \n",
      "370        371       0   59           5             8.0                 9   \n",
      "371        372       0   59           5             8.1                 9   \n",
      "372        373       0   59           5             8.1                 9   \n",
      "373        374       0   59           5             8.1                 9   \n",
      "\n",
      "     Physical Activity Level  Stress Level  BMI Category  Heart Rate  \\\n",
      "0                         42             6             3          77   \n",
      "1                         60             8             0          75   \n",
      "2                         60             8             0          75   \n",
      "3                         30             8             2          85   \n",
      "4                         30             8             2          85   \n",
      "..                       ...           ...           ...         ...   \n",
      "369                       75             3             3          68   \n",
      "370                       75             3             3          68   \n",
      "371                       75             3             3          68   \n",
      "372                       75             3             3          68   \n",
      "373                       75             3             3          68   \n",
      "\n",
      "     Daily Steps  Systolic  Diastolic  \n",
      "0           4200       126         83  \n",
      "1          10000       125         80  \n",
      "2          10000       125         80  \n",
      "3           3000       140         90  \n",
      "4           3000       140         90  \n",
      "..           ...       ...        ...  \n",
      "369         7000       140         95  \n",
      "370         7000       140         95  \n",
      "371         7000       140         95  \n",
      "372         7000       140         95  \n",
      "373         7000       140         95  \n",
      "\n",
      "[374 rows x 13 columns]\n"
     ]
    }
   ],
   "source": [
    "print(X)"
   ]
  },
  {
   "cell_type": "code",
   "execution_count": 9,
   "id": "2a47166e-8fc8-4546-9f60-73832e99bf4e",
   "metadata": {},
   "outputs": [],
   "source": [
    "X_train, X_test, y_train, y_test = train_test_split(X, y, test_size=0.3, stratify=y, random_state=42)\n",
    "scaler = StandardScaler()\n",
    "X_train_scaled = scaler.fit_transform(X_train)\n",
    "X_test_scaled = scaler.transform(X_test)\n"
   ]
  },
  {
   "cell_type": "code",
   "execution_count": 10,
   "id": "d77f43fc-5fc2-4bec-9120-d8a02cf54f32",
   "metadata": {},
   "outputs": [],
   "source": [
    "knn = KNC()\n",
    "knn.fit(X_train_scaled, y_train)\n",
    "y_pred = knn.predict(X_test_scaled)"
   ]
  },
  {
   "cell_type": "code",
   "execution_count": 13,
   "id": "12c86a76-d78d-467a-95ae-dd3d5983f3a2",
   "metadata": {},
   "outputs": [
    {
     "name": "stdout",
     "output_type": "stream",
     "text": [
      "Accuracy: 0.8761\n",
      "confusion matrix:\n",
      " [[60  4  2]\n",
      " [ 2 21  1]\n",
      " [ 4  1 18]]\n",
      "Classification Report:\n",
      "               precision    recall  f1-score   support\n",
      "\n",
      "         0.0       0.91      0.91      0.91        66\n",
      "         1.0       0.81      0.88      0.84        24\n",
      "         2.0       0.86      0.78      0.82        23\n",
      "\n",
      "    accuracy                           0.88       113\n",
      "   macro avg       0.86      0.86      0.86       113\n",
      "weighted avg       0.88      0.88      0.88       113\n",
      "\n"
     ]
    }
   ],
   "source": [
    "accuracy = accuracy_score(y_test, y_pred)\n",
    "confusionmatrix = confusion_matrix(y_test, y_pred)\n",
    "class_report = classification_report(y_test, y_pred)\n",
    "print(f\"Accuracy: {accuracy:.4f}\")\n",
    "print(\"confusion matrix:\\n\",confusionmatrix)\n",
    "print(\"Classification Report:\\n\",class_report)"
   ]
  },
  {
   "cell_type": "code",
   "execution_count": 14,
   "id": "ddf85d2b-e119-4bc9-bb18-b19fbd300dbf",
   "metadata": {},
   "outputs": [
    {
     "data": {
      "image/png": "[encoded data removed]",
      "text/plain": [
       "<Figure size 640x480 with 2 Axes>"
      ]
     },
     "metadata": {},
     "output_type": "display_data"
    }
   ],
   "source": [
    "sns.heatmap(confusionmatrix, annot=True, fmt='d', cmap='Blues', xticklabels=['0','1','2'], yticklabels=['0','1','2'])\n",
    "plt.xlabel('Predicted')\n",
    "plt.ylabel('Actual')\n",
    "plt.title('Confusion Matrix Heatmap')\n",
    "plt.show()"
   ]
  },
  {
   "cell_type": "code",
   "execution_count": null,
   "id": "1bf28417-136e-437c-84a2-993412ba7e17",
   "metadata": {},
   "outputs": [],
   "source": []
  }
 ],
 "metadata": {
  "kernelspec": {
   "display_name": "Python 3 (ipykernel)",
   "language": "python",
   "name": "python3"
  },
  "language_info": {
   "codemirror_mode": {
    "name": "ipython",
    "version": 3
   },
   "file_extension": ".py",
   "mimetype": "text/x-python",
   "name": "python",
   "nbconvert_exporter": "python",
   "pygments_lexer": "ipython3",
   "version": "3.13.1"
  }
 },
 "nbformat": 4,
 "nbformat_minor": 5
}
